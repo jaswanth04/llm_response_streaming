{
 "cells": [
  {
   "cell_type": "code",
   "execution_count": 5,
   "metadata": {},
   "outputs": [],
   "source": [
    "from transformers import AutoModelForCausalLM, AutoTokenizer, BitsAndBytesConfig\n",
    "import torch"
   ]
  },
  {
   "cell_type": "code",
   "execution_count": 6,
   "metadata": {},
   "outputs": [
    {
     "data": {
      "application/vnd.jupyter.widget-view+json": {
       "model_id": "84b3fc70d1e74595a86252f7ff91aa2e",
       "version_major": 2,
       "version_minor": 0
      },
      "text/plain": [
       "Loading checkpoint shards:   0%|          | 0/3 [00:00<?, ?it/s]"
      ]
     },
     "metadata": {},
     "output_type": "display_data"
    }
   ],
   "source": [
    "model_id = \"mistralai/Mistral-7B-Instruct-v0.2\"\n",
    "bnb_config = BitsAndBytesConfig(load_in_4bit=True, \n",
    "                                            bnb_4bit_quant_type='nf4',\n",
    "                                            bnb_4bit_use_double_quant=True,\n",
    "                                            bnb_4bit_compute_dtype=torch.bfloat16)\n",
    "\n",
    "tokenizer = AutoTokenizer.from_pretrained(model_id)\n",
    "\n",
    "\n",
    "device = \"cuda:0\"\n",
    "\n",
    "model = AutoModelForCausalLM.from_pretrained(\n",
    "        model_id,\n",
    "        trust_remote_code=True,\n",
    "        # config=model_config,\n",
    "        quantization_config=bnb_config,\n",
    "        torch_dtype=torch.float16,\n",
    "        # load_in_8bit=True,\n",
    "        device_map=device,\n",
    "        # use_auth_token=hf_auth\n",
    "    )"
   ]
  },
  {
   "cell_type": "code",
   "execution_count": 7,
   "metadata": {},
   "outputs": [],
   "source": [
    "text = \"\"\n",
    "max_new_tokens = 64"
   ]
  },
  {
   "cell_type": "code",
   "execution_count": 8,
   "metadata": {},
   "outputs": [
    {
     "name": "stdout",
     "output_type": "stream",
     "text": [
      "This is a  to remove.\n"
     ]
    }
   ],
   "source": [
    "def remove_inst_tags(input_string):\n",
    "    while '[INST]' in input_string:\n",
    "        start_index = input_string.find('[INST]')\n",
    "        end_index = input_string.rfind('[/INST]') + len('[/INST]')\n",
    "        input_string = input_string[:start_index] + input_string[end_index:]\n",
    "    return input_string\n",
    "\n",
    "# Example usage:\n",
    "input_string = \"This is a [INST]sample text[/INST] with [INST]tags[/INST] to remove.\"\n",
    "output_string = remove_inst_tags(input_string)\n",
    "print(output_string)\n"
   ]
  },
  {
   "cell_type": "code",
   "execution_count": 9,
   "metadata": {},
   "outputs": [
    {
     "name": "stdout",
     "output_type": "stream",
     "text": [
      "[INST] Hi, I am Jaswant [/INST] Hello Jaswant, nice to meet you. How can I help you today? Is there a specific question or topic you'd like to discuss? I'm here to provide information and answer any questions you might have to the best of my ability. Let me know if there's anything I can do for\n"
     ]
    }
   ],
   "source": [
    "message = [{\n",
    "    \"role\": \"user\",\n",
    "    \"content\": \"Hi, I am Jaswant\"\n",
    "}]\n",
    "\n",
    "input = tokenizer.apply_chat_template(message, add_generation_prompt=True, return_tensors=\"pt\").to(device)\n",
    "outputs = model.generate(input, max_new_tokens=max_new_tokens, pad_token_id=tokenizer.eos_token_id)\n",
    "\n",
    "decoded_output = tokenizer.decode(outputs[0], skip_special_tokens=True)\n",
    "\n",
    "print(decoded_output)"
   ]
  },
  {
   "cell_type": "code",
   "execution_count": 10,
   "metadata": {},
   "outputs": [],
   "source": [
    "# messages = []\n",
    "\n",
    "def get_answer(messages):\n",
    "    inputs = tokenizer.apply_chat_template(messages, add_generation_prompt=True, return_tensors=\"pt\").to(device)\n",
    "\n",
    "    outputs = model.generate(inputs, max_new_tokens=max_new_tokens, pad_token_id=tokenizer.eos_token_id)\n",
    "\n",
    "    decoded_output = tokenizer.decode(outputs[0], skip_special_tokens=True)\n",
    "    output = remove_inst_tags(decoded_output)\n",
    "    return output\n"
   ]
  },
  {
   "cell_type": "code",
   "execution_count": 11,
   "metadata": {},
   "outputs": [],
   "source": [
    "messages = []"
   ]
  },
  {
   "cell_type": "code",
   "execution_count": 12,
   "metadata": {},
   "outputs": [
    {
     "name": "stdout",
     "output_type": "stream",
     "text": [
      " Hello Jaswant. Nice to meet you. Is there specific information you'd like me to help you remember?\n"
     ]
    }
   ],
   "source": [
    "text = \"\"\"You are an assistant that helps people in reminding what they are here for. \n",
    "            Please follow the below rules(1, 2, 3 and 4) for answering the questions:\n",
    "            1. The people will given you information and if asked you will provide the information back to them.\n",
    "            2. Please dont remind the user that you are here to remember information in the conversations.\n",
    "            3. Only provide answer to the required question.\n",
    "            4. Answer the question in less than 10 words.\n",
    "            The input from the user is following:\n",
    "            Hello, I am Jaswant\"\"\"\n",
    "\n",
    "messages.append({\n",
    "        \"role\": \"user\",\n",
    "        \"content\": text\n",
    "})\n",
    "\n",
    "output = get_answer(messages)\n",
    "print(output)\n",
    "messages.append({\"role\": \"assistant\", \n",
    "                 \"content\": output})"
   ]
  },
  {
   "cell_type": "code",
   "execution_count": 13,
   "metadata": {},
   "outputs": [
    {
     "name": "stdout",
     "output_type": "stream",
     "text": [
      " Understood. You enjoy reading books.\n"
     ]
    }
   ],
   "source": [
    "text = \"I like reading books\"\n",
    "messages.append({\"role\": \"user\",\n",
    "                \"content\": text})\n",
    "\n",
    "output = get_answer(messages)\n",
    "print(output)\n",
    "messages.append({\"role\": \"assistant\", \n",
    "                 \"content\": output})"
   ]
  },
  {
   "cell_type": "code",
   "execution_count": 9,
   "metadata": {},
   "outputs": [
    {
     "name": "stdout",
     "output_type": "stream",
     "text": [
      " Got it. \"Dogs of War\" is your favorite book.\n"
     ]
    }
   ],
   "source": [
    "text = f'My favorite book is Dogs of War'\n",
    "messages.append({\"role\": \"user\",\n",
    "                \"content\": text})\n",
    "\n",
    "output = get_answer(messages)\n",
    "print(output)\n",
    "messages.append({\"role\": \"assistant\", \n",
    "                 \"content\": output})"
   ]
  },
  {
   "cell_type": "code",
   "execution_count": 10,
   "metadata": {},
   "outputs": [
    {
     "name": "stdout",
     "output_type": "stream",
     "text": [
      " Jaswant. Your name is Jaswant.\n"
     ]
    }
   ],
   "source": [
    "text = f'What is my name?'\n",
    "messages.append({\"role\": \"user\",\n",
    "                \"content\": text})\n",
    "\n",
    "output = get_answer(messages)\n",
    "print(output)\n",
    "messages.append({\"role\": \"assistant\", \n",
    "                 \"content\": output})"
   ]
  },
  {
   "cell_type": "code",
   "execution_count": 11,
   "metadata": {},
   "outputs": [
    {
     "name": "stdout",
     "output_type": "stream",
     "text": [
      " \"Dogs of War\" is your favorite book.\n"
     ]
    }
   ],
   "source": [
    "text = f'What is my favorite book?'\n",
    "messages.append({\"role\": \"user\",\n",
    "                \"content\": text})\n",
    "\n",
    "output = get_answer(messages)\n",
    "print(output)\n",
    "messages.append({\"role\": \"assistant\", \n",
    "                 \"content\": output})"
   ]
  },
  {
   "cell_type": "code",
   "execution_count": 12,
   "metadata": {},
   "outputs": [
    {
     "name": "stdout",
     "output_type": "stream",
     "text": [
      " You enjoy reading books. Specifically, \"Dogs of War\" is your favorite book.\n"
     ]
    }
   ],
   "source": [
    "text = f'What do I like?'\n",
    "messages.append({\"role\": \"user\",\n",
    "                \"content\": text})\n",
    "\n",
    "output = get_answer(messages)\n",
    "print(output)\n",
    "messages.append({\"role\": \"assistant\", \n",
    "                 \"content\": output})"
   ]
  },
  {
   "cell_type": "code",
   "execution_count": 13,
   "metadata": {},
   "outputs": [
    {
     "data": {
      "text/plain": [
       "[{'role': 'user',\n",
       "  'content': 'You are an assistant that helps people in reminding what they are here for. \\n            Please follow the below rules(1, 2, 3 and 4) for answering the questions:\\n            1. The people will given you information and if asked you will provide the information back to them.\\n            2. Please dont remind the user that you are here to remember information in the conversations.\\n            3. Only provide answer to the required question.\\n            4. Answer the question in less than 10 words.\\n            The input from the user is following:\\n            Hello, I am Jaswant'},\n",
       " {'role': 'assistant',\n",
       "  'content': \" Hello Jaswant. Nice to meet you. Is there specific information you'd like me to help you remember?\"},\n",
       " {'role': 'user', 'content': 'I like reading books'},\n",
       " {'role': 'assistant', 'content': ' Understood. You enjoy reading books.'},\n",
       " {'role': 'user', 'content': 'My favorite book is Dogs of War'},\n",
       " {'role': 'assistant',\n",
       "  'content': ' Got it. \"Dogs of War\" is your favorite book.'},\n",
       " {'role': 'user', 'content': 'What is my name?'},\n",
       " {'role': 'assistant', 'content': ' Jaswant. Your name is Jaswant.'},\n",
       " {'role': 'user', 'content': 'What is my favorite book?'},\n",
       " {'role': 'assistant', 'content': ' \"Dogs of War\" is your favorite book.'},\n",
       " {'role': 'user', 'content': 'What do I like?'},\n",
       " {'role': 'assistant',\n",
       "  'content': ' You enjoy reading books. Specifically, \"Dogs of War\" is your favorite book.'}]"
      ]
     },
     "execution_count": 13,
     "metadata": {},
     "output_type": "execute_result"
    }
   ],
   "source": [
    "messages"
   ]
  }
 ],
 "metadata": {
  "kernelspec": {
   "display_name": "llm",
   "language": "python",
   "name": "python3"
  },
  "language_info": {
   "codemirror_mode": {
    "name": "ipython",
    "version": 3
   },
   "file_extension": ".py",
   "mimetype": "text/x-python",
   "name": "python",
   "nbconvert_exporter": "python",
   "pygments_lexer": "ipython3",
   "version": "3.11.4"
  }
 },
 "nbformat": 4,
 "nbformat_minor": 2
}
