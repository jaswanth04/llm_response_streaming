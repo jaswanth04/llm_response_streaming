{
 "cells": [
  {
   "cell_type": "code",
   "execution_count": 1,
   "metadata": {},
   "outputs": [],
   "source": [
    "from transformers import AutoModelForCausalLM, AutoTokenizer, BitsAndBytesConfig\n",
    "import torch"
   ]
  },
  {
   "cell_type": "code",
   "execution_count": 2,
   "metadata": {},
   "outputs": [
    {
     "name": "stdout",
     "output_type": "stream",
     "text": [
      "[2024-01-29 16:43:47,293] [INFO] [real_accelerator.py:158:get_accelerator] Setting ds_accelerator to cuda (auto detect)\n"
     ]
    },
    {
     "data": {
      "application/vnd.jupyter.widget-view+json": {
       "model_id": "996fe0f49f7c4f39bde35a3814f8be7a",
       "version_major": 2,
       "version_minor": 0
      },
      "text/plain": [
       "Loading checkpoint shards:   0%|          | 0/3 [00:00<?, ?it/s]"
      ]
     },
     "metadata": {},
     "output_type": "display_data"
    }
   ],
   "source": [
    "model_id = \"mistralai/Mistral-7B-Instruct-v0.2\"\n",
    "bnb_config = BitsAndBytesConfig(load_in_4bit=True, \n",
    "                                            bnb_4bit_quant_type='nf4',\n",
    "                                            bnb_4bit_use_double_quant=True,\n",
    "                                            bnb_4bit_compute_dtype=torch.bfloat16)\n",
    "\n",
    "tokenizer = AutoTokenizer.from_pretrained(model_id)\n",
    "\n",
    "\n",
    "device = \"cuda:0\"\n",
    "\n",
    "model = AutoModelForCausalLM.from_pretrained(\n",
    "        model_id,\n",
    "        trust_remote_code=True,\n",
    "        # config=model_config,\n",
    "        quantization_config=bnb_config,\n",
    "        torch_dtype=torch.float16,\n",
    "        # load_in_8bit=True,\n",
    "        device_map=device,\n",
    "        # use_auth_token=hf_auth\n",
    "    )"
   ]
  },
  {
   "cell_type": "code",
   "execution_count": 3,
   "metadata": {},
   "outputs": [
    {
     "name": "stdout",
     "output_type": "stream",
     "text": [
      "This is a  to remove.\n"
     ]
    }
   ],
   "source": [
    "def remove_inst_tags(input_string):\n",
    "    while '[INST]' in input_string:\n",
    "        start_index = input_string.find('[INST]')\n",
    "        end_index = input_string.rfind('[/INST]') + len('[/INST]')\n",
    "        input_string = input_string[:start_index] + input_string[end_index:]\n",
    "    return input_string\n",
    "\n",
    "# Example usage:\n",
    "input_string = \"This is a [INST]sample text[/INST] with [INST]tags[/INST] to remove.\"\n",
    "output_string = remove_inst_tags(input_string)\n",
    "print(output_string)\n"
   ]
  },
  {
   "cell_type": "code",
   "execution_count": 11,
   "metadata": {},
   "outputs": [],
   "source": [
    "import pymongo\n",
    "import datetime\n",
    "import uuid\n",
    "import time\n",
    "\n",
    "class MongoConnector:\n",
    "    def __init__(self) -> None:\n",
    "        client = pymongo.MongoClient(\"mongodb://localhost:27017/\")\n",
    "        db = client[\"llm\"]\n",
    "        self.collection = db[\"history\"]\n",
    "\n",
    "        # x = mycol.insert_one(mydict)\n",
    "\n",
    "    def insert_record(self, session_id: str, question: str, answer: str) -> None:\n",
    "        record = {\"session_id\": session_id,\n",
    "                  \"timestamp\": datetime.datetime.utcnow(),\n",
    "                  \"question\": question,\n",
    "                  \"answer\": answer}\n",
    "        \n",
    "        res = self.collection.insert_one(record)\n",
    "\n",
    "        print(res)\n",
    "\n",
    "    def retrieve_history(self, session_id):\n",
    "        # Query MongoDB to retrieve questions and answers for a given session_id, sorted by timestamp\n",
    "        cursor = self.collection.find({'session_id': session_id}).sort('timestamp', 1)  # 1 for ascending order, -1 for descending\n",
    "\n",
    "        questions_and_answers = []  # List to store questions and answers\n",
    "\n",
    "        for doc in cursor:\n",
    "            question = doc['question']\n",
    "            answer = doc['answer']\n",
    "            questions_and_answers.append((question, answer))\n",
    "\n",
    "        return questions_and_answers\n"
   ]
  },
  {
   "cell_type": "code",
   "execution_count": 5,
   "metadata": {},
   "outputs": [],
   "source": [
    "def get_answer_from_messages(messages):\n",
    "    max_new_tokens = 64\n",
    "    inputs = tokenizer.apply_chat_template(messages, add_generation_prompt=True, return_tensors=\"pt\").to(device)\n",
    "\n",
    "    outputs = model.generate(inputs, max_new_tokens=max_new_tokens, pad_token_id=tokenizer.eos_token_id)\n",
    "\n",
    "    decoded_output = tokenizer.decode(outputs[0], skip_special_tokens=True)\n",
    "    # print('-'*30)\n",
    "    # print(decoded_output)\n",
    "    # print('-'*30)\n",
    "    output = remove_inst_tags(decoded_output)\n",
    "\n",
    "    return output"
   ]
  },
  {
   "cell_type": "code",
   "execution_count": 6,
   "metadata": {},
   "outputs": [],
   "source": [
    "mongo_connector = MongoConnector()"
   ]
  },
  {
   "cell_type": "code",
   "execution_count": 7,
   "metadata": {},
   "outputs": [],
   "source": [
    "def get_answer_from_session(session_id, question=None):\n",
    "\n",
    "    if not question:\n",
    "        raise Exception(\"Question is not provided\")\n",
    "\n",
    "    history = mongo_connector.retrieve_history(session_id)\n",
    "\n",
    "    if not history:\n",
    "        text = \"\"\"You are an assistant that helps people in reminding what they are here for. \n",
    "                Please follow the below rules(1, 2, 3 and 4) for answering the questions:\n",
    "                1. The people will given you information and if asked you will provide the information back to them.\n",
    "                2. Please dont remind the user that you are here to remember information in the conversations.\n",
    "                3. Only provide answer to the required question.\n",
    "                4. Answer the question in less than 10 words.\n",
    "                The input from the user is following:\n",
    "                {query}\"\"\".format(query=question)\n",
    "\n",
    "        messages = [{\"role\": \"user\", \n",
    "                    \"content\": text}]\n",
    "        answer = get_answer_from_messages(messages)\n",
    "        # print(f'Answer is: {answer}')\n",
    "        mongo_connector.insert_record(session_id=session_id, question=text, answer=answer)\n",
    "    else:\n",
    "        messages = []\n",
    "        for previous_question, previous_answer in history:\n",
    "            messages.append({\n",
    "                \"role\": \"user\",\n",
    "                \"content\": previous_question\n",
    "            }) \n",
    "            messages.append({\n",
    "                \"role\": \"assistant\",\n",
    "                \"content\": previous_answer\n",
    "            })\n",
    "        messages.append({\n",
    "            \"role\": \"user\",\n",
    "            \"content\": question\n",
    "        })\n",
    "        answer = get_answer_from_messages(messages)\n",
    "        mongo_connector.insert_record(session_id=session_id, question=question, answer=answer)\n",
    "\n",
    "    return answer\n",
    "          \n",
    "                "
   ]
  },
  {
   "cell_type": "code",
   "execution_count": 12,
   "metadata": {},
   "outputs": [
    {
     "name": "stdout",
     "output_type": "stream",
     "text": [
      "01565f06-3870-4a52-9713-dfcf63dd5a41\n",
      "InsertOneResult(ObjectId('65b7899d475493e16a4e7323'), acknowledged=True)\n",
      "Question: Hello I am Jaswant, Answer:  Hello Jaswant. Nice to meet you. Is there specific information you would like to know or remember? I'm here to help.\n",
      "InsertOneResult(ObjectId('65b789a1475493e16a4e7324'), acknowledged=True)\n",
      "Question: I like reading books, Answer:  Understood. You enjoy reading books. Let me know if you need help remembering any book titles or authors.\n",
      "InsertOneResult(ObjectId('65b789a6475493e16a4e7325'), acknowledged=True)\n",
      "Question: My favorite book is Dogs of War, Answer:  I see. \"Dogs of War\" is your favorite book. Let me know if you need help remembering any other details about it.\n",
      "InsertOneResult(ObjectId('65b789aa475493e16a4e7326'), acknowledged=True)\n",
      "Question: What is my name?, Answer:  Jaswant. Your name is Jaswant. Let me know if you need help with anything else.\n",
      "InsertOneResult(ObjectId('65b789ae475493e16a4e7327'), acknowledged=True)\n",
      "Question: What is my favorite book?, Answer:  Your favorite book is \"Dogs of War.\" Let me know if you need help remembering anything else.\n",
      "InsertOneResult(ObjectId('65b789b3475493e16a4e7328'), acknowledged=True)\n",
      "Question: What do I like ?, Answer:  You enjoy reading books, specifically \"Dogs of War\" is your favorite. Let me know if you need help remembering anything else.\n"
     ]
    }
   ],
   "source": [
    "session_id = str(uuid.uuid4())\n",
    "print(session_id)\n",
    "\n",
    "questions = [\"Hello I am Jaswant\",\n",
    "             \"I like reading books\",\n",
    "             \"My favorite book is Dogs of War\",\n",
    "             \"What is my name?\",\n",
    "             \"What is my favorite book?\",\n",
    "             \"What do I like ?\"]\n",
    "\n",
    "for question in questions:\n",
    "    answer = get_answer_from_session(session_id=session_id, question=question)\n",
    "    print(f'Question: {question}, Answer: {answer}')\n",
    "    time.sleep(3)\n"
   ]
  },
  {
   "cell_type": "code",
   "execution_count": 10,
   "metadata": {},
   "outputs": [
    {
     "name": "stdout",
     "output_type": "stream",
     "text": [
      "[('You are an assistant that helps people in reminding what they are here for. \\n                Please follow the below rules(1, 2, 3 and 4) for answering the questions:\\n                1. The people will given you information and if asked you will provide the information back to them.\\n                2. Please dont remind the user that you are here to remember information in the conversations.\\n                3. Only provide answer to the required question.\\n                4. Answer the question in less than 10 words.\\n                The input from the user is following:\\n                Hello I am Jaswant', \" Hello Jaswant. Nice to meet you. Is there specific information you would like to know or remember? I'm here to help.\"), ('I like reading books', ' Understood. You enjoy reading books. Let me know if you need help remembering any book titles or authors.'), ('My favorite book is Dogs of War', ' I see. \"Dogs of War\" is your favorite book. Let me know if you need help remembering any other details about it.'), ('What is my name?', ' Jaswant. Your name is Jaswant. Let me know if you need help with anything else.'), ('What is my favorite book?', ' Your favorite book is \"Dogs of War.\" Let me know if you need help remembering anything else.'), ('What do I like ?', ' You enjoy reading books, specifically \"Dogs of War\" is your favorite. Let me know if you need help remembering anything else.')]\n"
     ]
    }
   ],
   "source": [
    "history = mongo_connector.retrieve_history(session_id)\n",
    "\n",
    "print(history)"
   ]
  },
  {
   "cell_type": "code",
   "execution_count": null,
   "metadata": {},
   "outputs": [],
   "source": []
  }
 ],
 "metadata": {
  "kernelspec": {
   "display_name": "llm",
   "language": "python",
   "name": "python3"
  },
  "language_info": {
   "codemirror_mode": {
    "name": "ipython",
    "version": 3
   },
   "file_extension": ".py",
   "mimetype": "text/x-python",
   "name": "python",
   "nbconvert_exporter": "python",
   "pygments_lexer": "ipython3",
   "version": "3.11.4"
  }
 },
 "nbformat": 4,
 "nbformat_minor": 2
}
