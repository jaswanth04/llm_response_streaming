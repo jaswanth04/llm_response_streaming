{
 "cells": [
  {
   "cell_type": "code",
   "execution_count": 3,
   "metadata": {},
   "outputs": [],
   "source": [
    "import requests"
   ]
  },
  {
   "cell_type": "markdown",
   "metadata": {},
   "source": [
    "Testing the streaming with langchain or LLM"
   ]
  },
  {
   "cell_type": "code",
   "execution_count": 36,
   "metadata": {},
   "outputs": [
    {
     "name": "stdout",
     "output_type": "stream",
     "text": [
      "{\"typescript_string\": \"my_task\", \"input\": \"my_question\", \"text\": \"To print \"Hello, World!\" in Python, you can use the following code:\n",
      "\n",
      "```python\n",
      "print(\"Hello, World!\")\n",
      "```\n",
      "\n",
      "Save the code in a .py file and run it. The output will be:\n",
      "\n",
      "```\n",
      "Hello, World!\n",
      "```\"}'"
     ]
    }
   ],
   "source": [
    "query = \"How to print hello world in python\"\n",
    "url = f'http://127.0.0.1:8000/query-stream/?query={query}'\n",
    "\n",
    "with requests.get(url, stream=True) as r:\n",
    "    for chunk in r.iter_content(1024): \n",
    "        print(chunk.decode('utf-8'), end=\"\")"
   ]
  },
  {
   "cell_type": "markdown",
   "metadata": {},
   "source": [
    "Testing the stream  with history"
   ]
  },
  {
   "cell_type": "code",
   "execution_count": 4,
   "metadata": {},
   "outputs": [],
   "source": [
    "import uuid\n",
    "import time"
   ]
  },
  {
   "cell_type": "code",
   "execution_count": 7,
   "metadata": {},
   "outputs": [],
   "source": [
    "def get_answer(session_id, query):\n",
    "    url = 'http://127.0.0.1:8000/query-stream/'\n",
    "    payload = {\"session_id\": session_id,\n",
    "            \"query\": query}\n",
    "    print('\\n', '-'*30)\n",
    "    print(f'Question: {query}')\n",
    "\n",
    "    print(\"Answer: \", end=\"\")\n",
    "    with requests.post(url, json=payload, stream=True) as r:\n",
    "        for chunk in r.iter_content(1024):\n",
    "            print(chunk.decode('utf-8'), end=\"\")"
   ]
  },
  {
   "cell_type": "code",
   "execution_count": 8,
   "metadata": {},
   "outputs": [
    {
     "name": "stdout",
     "output_type": "stream",
     "text": [
      "Session id: fb0e1ba3-23c0-47cb-816e-882eda297da7\n",
      "\n",
      " ------------------------------\n",
      "Question: Hello I am Jaswant\n",
      "Answer: Hello Jaswant. Nice to meet you. Is there specific information you would like to know or remember? I'm here to help.</s>\n",
      " ------------------------------\n",
      "Question: I like reading books\n",
      "Answer: Understood. You enjoy reading books. Let me know if you need help remembering any book titles or authors.</s>\n",
      " ------------------------------\n",
      "Question: My favorite book is The White Tiger\n",
      "Answer: I see. \"The White Tiger\" is your favorite book. Let me know if you need help remembering any other details about it.</s>\n",
      " ------------------------------\n",
      "Question: What is my name?\n",
      "Answer: Jaswant. Your name is Jaswant. Let me know if you need help with anything else.</s>\n",
      " ------------------------------\n",
      "Question: What is my favorite book?\n",
      "Answer: Your favorite book is \"The White Tiger.\" Let me know if you need help remembering anything else.</s>\n",
      " ------------------------------\n",
      "Question: What do I like ?\n",
      "Answer: You enjoy reading books, specifically \"The White Tiger\" is your favorite. Let me know if you need help remembering anything else.</s>"
     ]
    }
   ],
   "source": [
    "\n",
    "session_id = str(uuid.uuid4())\n",
    "print(f'Session id: {session_id}')\n",
    "\n",
    "questions = [\"Hello I am Jaswant\",\n",
    "             \"I like reading books\",\n",
    "             \"My favorite book is The White Tiger\",\n",
    "             \"What is my name?\",\n",
    "             \"What is my favorite book?\",\n",
    "             \"What do I like ?\"]\n",
    "\n",
    "for question in questions:\n",
    "    get_answer(session_id, question)\n",
    "    time.sleep(2)\n",
    "\n"
   ]
  },
  {
   "cell_type": "code",
   "execution_count": null,
   "metadata": {},
   "outputs": [],
   "source": []
  },
  {
   "cell_type": "markdown",
   "metadata": {},
   "source": [
    "Testing the Fast Trial cell"
   ]
  },
  {
   "cell_type": "code",
   "execution_count": 5,
   "metadata": {},
   "outputs": [
    {
     "name": "stdout",
     "output_type": "stream",
     "text": [
      "{\"detail\":[{\"loc\":[\"query\",\"query\"],\"msg\":\"field required\",\"type\":\"value_error.missing\"}]},"
     ]
    }
   ],
   "source": [
    "\n",
    "item = 9\n",
    "url = 'http://127.0.0.1:8000/query-stream/'\n",
    "\n",
    "with requests.get(url, stream=True) as r:\n",
    "    for chunk in r.iter_content(1024): \n",
    "        print(chunk.decode('utf-8'), end=\",\")"
   ]
  },
  {
   "cell_type": "code",
   "execution_count": 29,
   "metadata": {},
   "outputs": [],
   "source": [
    "res = {\"typescript_string\": \"my_task\",\n",
    "       \"input\": \"my_question\",\n",
    "       \"output\": \"llm_answer_to_my_question\"}\n",
    "\n"
   ]
  },
  {
   "cell_type": "code",
   "execution_count": 30,
   "metadata": {},
   "outputs": [],
   "source": [
    "import json"
   ]
  },
  {
   "cell_type": "code",
   "execution_count": 31,
   "metadata": {},
   "outputs": [
    {
     "data": {
      "text/plain": [
       "'{\"typescript_string\": \"my_task\", \"input\": \"my_question\", \"output\": \"llm_answer_to_my_question\"}'"
      ]
     },
     "execution_count": 31,
     "metadata": {},
     "output_type": "execute_result"
    }
   ],
   "source": [
    "json.dumps(res)"
   ]
  },
  {
   "cell_type": "code",
   "execution_count": null,
   "metadata": {},
   "outputs": [],
   "source": [
    "'{\"typescript_string\": \"my_task\", \"input\": \"my_question\", \"output\": \"llm_answer_to_my_question\"}'"
   ]
  }
 ],
 "metadata": {
  "kernelspec": {
   "display_name": "llm",
   "language": "python",
   "name": "python3"
  },
  "language_info": {
   "codemirror_mode": {
    "name": "ipython",
    "version": 3
   },
   "file_extension": ".py",
   "mimetype": "text/x-python",
   "name": "python",
   "nbconvert_exporter": "python",
   "pygments_lexer": "ipython3",
   "version": "3.11.4"
  }
 },
 "nbformat": 4,
 "nbformat_minor": 2
}
